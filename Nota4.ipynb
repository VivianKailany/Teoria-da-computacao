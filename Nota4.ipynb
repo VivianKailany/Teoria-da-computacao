{
  "nbformat": 4,
  "nbformat_minor": 0,
  "metadata": {
    "colab": {
      "provenance": [],
      "authorship_tag": "ABX9TyNNG+/Lew4/8UlO7rrq2fiB",
      "include_colab_link": true
    },
    "kernelspec": {
      "name": "python3",
      "display_name": "Python 3"
    },
    "language_info": {
      "name": "python"
    }
  },
  "cells": [
    {
      "cell_type": "markdown",
      "metadata": {
        "id": "view-in-github",
        "colab_type": "text"
      },
      "source": [
        "<a href=\"https://colab.research.google.com/github/VivianKailany/Teoria-da-computacao/blob/main/Nota4.ipynb\" target=\"_parent\"><img src=\"https://colab.research.google.com/assets/colab-badge.svg\" alt=\"Open In Colab\"/></a>"
      ]
    },
    {
      "cell_type": "markdown",
      "source": [
        "#Implementação da função Replace para o trabalho de Teoria da computação\n"
      ],
      "metadata": {
        "id": "Jz7COjURvsWc"
      }
    },
    {
      "cell_type": "code",
      "source": [
        "def iso(string, index, part):\n",
        "  before = (index == 0 or string[index-1] == ' ')\n",
        "  after = (index + len(part) == len(string) or string[index+len(part)] == ' ')\n",
        "  return (before and after)"
      ],
      "metadata": {
        "id": "9bZs0BFq_2VJ"
      },
      "execution_count": null,
      "outputs": []
    },
    {
      "cell_type": "code",
      "source": [
        "def find_custom(string, part):\n",
        "  for i in range(len(string) - len(part) + 1):\n",
        "    test = True\n",
        "    for j in range(len(part)):\n",
        "      if string[i+j] != part[j]:\n",
        "        test = False\n",
        "        break\n",
        "    if test and iso(string, i, part):\n",
        "      return i\n",
        "  return -1"
      ],
      "metadata": {
        "id": "_lMQU_BQzE0-"
      },
      "execution_count": null,
      "outputs": []
    },
    {
      "cell_type": "code",
      "source": [
        "def split_custom(string, part):\n",
        "  final = []\n",
        "  i = 0\n",
        "  while True:\n",
        "    index = find_custom(string[i:], part)\n",
        "    if index == -1:\n",
        "      final.append(string[i:])\n",
        "      break\n",
        "    final.append(string[i:i+index])\n",
        "    i += index + len(part)\n",
        "  return final\n"
      ],
      "metadata": {
        "id": "kHZbeU1iy5II"
      },
      "execution_count": null,
      "outputs": []
    },
    {
      "cell_type": "code",
      "execution_count": null,
      "metadata": {
        "id": "8NMhJNzhvbcs"
      },
      "outputs": [],
      "source": [
        "def replace_custom(string, old, new):\n",
        "  part = split_custom(string, old)\n",
        "  final = \"\"\n",
        "  for i in range(len(part)):\n",
        "    final += part[i]\n",
        "    if i < len(part) - 1:\n",
        "      final += new\n",
        "  return final\n"
      ]
    },
    {
      "cell_type": "code",
      "source": [],
      "metadata": {
        "id": "2NGWpmdHxJXw"
      },
      "execution_count": null,
      "outputs": []
    },
    {
      "cell_type": "markdown",
      "source": [
        "#Exemplos"
      ],
      "metadata": {
        "id": "Pb1brvVwwKSd"
      }
    },
    {
      "cell_type": "code",
      "source": [
        "text1 = 'eu gosto de morango e banana'\n",
        "print('Original: ', text1)\n",
        "print('Substituido: ', replace_custom(text1, 'banana', 'uva'))"
      ],
      "metadata": {
        "colab": {
          "base_uri": "https://localhost:8080/"
        },
        "id": "cmdm8ZSTwL6F",
        "outputId": "54b6b9e3-4282-4571-ee6f-e544aae33d84"
      },
      "execution_count": null,
      "outputs": [
        {
          "output_type": "stream",
          "name": "stdout",
          "text": [
            "Original:  eu gosto de morango e banana\n",
            "Substituido:  eu gosto de morango e uva\n"
          ]
        }
      ]
    },
    {
      "cell_type": "code",
      "source": [
        "text2 = 'eu gosto de morango @banana banana'\n",
        "print('Original: ', text2)\n",
        "print('Substituido: ', replace_custom(text1, 'banana', 'uva'))"
      ],
      "metadata": {
        "colab": {
          "base_uri": "https://localhost:8080/"
        },
        "id": "iLZEniAu4Ixw",
        "outputId": "41e0a038-1938-4549-b856-dbce093e4e35"
      },
      "execution_count": null,
      "outputs": [
        {
          "output_type": "stream",
          "name": "stdout",
          "text": [
            "Original:  eu gosto de morango @banana banana\n",
            "Substituido:  eu gosto de morango @banana uva\n"
          ]
        }
      ]
    },
    {
      "cell_type": "markdown",
      "source": [
        "#Testes"
      ],
      "metadata": {
        "id": "p5FjbU_uwULt"
      }
    },
    {
      "cell_type": "code",
      "source": [],
      "metadata": {
        "id": "zph3QicqwVO-"
      },
      "execution_count": null,
      "outputs": []
    }
  ]
}