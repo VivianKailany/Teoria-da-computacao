{
  "nbformat": 4,
  "nbformat_minor": 0,
  "metadata": {
    "colab": {
      "provenance": [],
      "include_colab_link": true
    },
    "kernelspec": {
      "name": "python3",
      "display_name": "Python 3"
    },
    "language_info": {
      "name": "python"
    }
  },
  "cells": [
    {
      "cell_type": "markdown",
      "metadata": {
        "id": "view-in-github",
        "colab_type": "text"
      },
      "source": [
        "<a href=\"https://colab.research.google.com/github/VivianKailany/Teoria-da-computacao/blob/main/Nota4.ipynb\" target=\"_parent\"><img src=\"https://colab.research.google.com/assets/colab-badge.svg\" alt=\"Open In Colab\"/></a>"
      ]
    },
    {
      "cell_type": "markdown",
      "source": [
        "#Implementação da função Replace para o trabalho de Teoria da computação\n"
      ],
      "metadata": {
        "id": "Jz7COjURvsWc"
      }
    },
    {
      "cell_type": "code",
      "source": [
        "def iso(string, index, part):\n",
        "  before = (index == 0 or string[index-1] == ' ')\n",
        "  after = (index + len(part) == len(string) or string[index+len(part)] == ' ')\n",
        "  return (before and after)"
      ],
      "metadata": {
        "id": "9bZs0BFq_2VJ"
      },
      "execution_count": 64,
      "outputs": []
    },
    {
      "cell_type": "code",
      "source": [
        "def find_custom(string, part):\n",
        "  for i in range(len(string) - len(part) + 1):\n",
        "    test = True\n",
        "    for j in range(len(part)):\n",
        "      if string[i+j] != part[j]:\n",
        "        test = False\n",
        "        break\n",
        "    if test and iso(string, i, part):\n",
        "      return i\n",
        "  return -1"
      ],
      "metadata": {
        "id": "_lMQU_BQzE0-"
      },
      "execution_count": 65,
      "outputs": []
    },
    {
      "cell_type": "code",
      "source": [
        "def split_custom(string, part):\n",
        "  final = []\n",
        "  i = 0\n",
        "  while True:\n",
        "    index = find_custom(string[i:], part)\n",
        "    if index == -1:\n",
        "      final.append(string[i:])\n",
        "      break\n",
        "    final.append(string[i:i+index])\n",
        "    i += index + len(part)\n",
        "  return final\n"
      ],
      "metadata": {
        "id": "kHZbeU1iy5II"
      },
      "execution_count": 66,
      "outputs": []
    },
    {
      "cell_type": "code",
      "execution_count": 67,
      "metadata": {
        "id": "8NMhJNzhvbcs"
      },
      "outputs": [],
      "source": [
        "def replace_custom(string, old, new):\n",
        "  part = split_custom(string, old)\n",
        "  final = \"\"\n",
        "  for i in range(len(part)):\n",
        "    final += part[i]\n",
        "    if i < len(part) - 1:\n",
        "      final += new\n",
        "  return final\n"
      ]
    },
    {
      "cell_type": "code",
      "source": [],
      "metadata": {
        "id": "2NGWpmdHxJXw"
      },
      "execution_count": 67,
      "outputs": []
    },
    {
      "cell_type": "markdown",
      "source": [
        "#Exemplos"
      ],
      "metadata": {
        "id": "Pb1brvVwwKSd"
      }
    },
    {
      "cell_type": "code",
      "source": [
        "text1 = 'eu gosto de morango e banana'\n",
        "print('Original: ', text1)\n",
        "print('Substituido: ', replace_custom(text1, 'banana', 'uva'))"
      ],
      "metadata": {
        "colab": {
          "base_uri": "https://localhost:8080/"
        },
        "id": "cmdm8ZSTwL6F",
        "outputId": "33a8b57f-9aed-4368-a7eb-52868829225a"
      },
      "execution_count": 68,
      "outputs": [
        {
          "output_type": "stream",
          "name": "stdout",
          "text": [
            "Original:  eu gosto de morango e banana\n",
            "Substituido:  eu gosto de morango e uva\n"
          ]
        }
      ]
    },
    {
      "cell_type": "code",
      "source": [
        "text2 = 'eu gosto de morango @banana banana'\n",
        "print('Original: ', text2)\n",
        "print('Substituido: ', replace_custom(text2, 'banana', 'uva'))"
      ],
      "metadata": {
        "colab": {
          "base_uri": "https://localhost:8080/"
        },
        "id": "iLZEniAu4Ixw",
        "outputId": "311c9077-54f6-4a5a-c678-b8f5730b59af"
      },
      "execution_count": 69,
      "outputs": [
        {
          "output_type": "stream",
          "name": "stdout",
          "text": [
            "Original:  eu gosto de morango @banana banana\n",
            "Substituido:  eu gosto de morango @banana uva\n"
          ]
        }
      ]
    },
    {
      "cell_type": "markdown",
      "source": [
        "#Testes"
      ],
      "metadata": {
        "id": "p5FjbU_uwULt"
      }
    },
    {
      "cell_type": "code",
      "source": [
        "def teste_1():\n",
        "    string = 'eu gosto de banana'\n",
        "    resultado = replace_custom(string, 'banana', 'uva')\n",
        "    esperado = 'eu gosto de uva'\n",
        "    print('Teste 1:', 'OK' if resultado == esperado else 'ERRO')\n",
        "    print(f\"  Resultado: {resultado}\\n  Esperado:  {esperado}\\n\")\n",
        "\n",
        "teste_1()\n"
      ],
      "metadata": {
        "id": "zph3QicqwVO-",
        "outputId": "268d082b-6ceb-4e4e-d948-2d864e10c280",
        "colab": {
          "base_uri": "https://localhost:8080/"
        }
      },
      "execution_count": 70,
      "outputs": [
        {
          "output_type": "stream",
          "name": "stdout",
          "text": [
            "Teste 1: OK\n",
            "  Resultado: eu gosto de uva\n",
            "  Esperado:  eu gosto de uva\n",
            "\n"
          ]
        }
      ]
    },
    {
      "cell_type": "code",
      "source": [
        "def teste_2():\n",
        "    string = 'eu gosto de bananada'\n",
        "    resultado = replace_custom(string, 'banana', 'uva')\n",
        "    esperado = 'eu gosto de bananada'\n",
        "    print('Teste 2:', 'OK' if resultado == esperado else 'ERRO')\n",
        "    print(f\"  Resultado: {resultado}\\n  Esperado:  {esperado}\\n\")\n",
        "\n",
        "teste_2()"
      ],
      "metadata": {
        "id": "rgllAeOoTxdU",
        "outputId": "bb93e582-45e3-41bf-f684-3ce56a34dcc8",
        "colab": {
          "base_uri": "https://localhost:8080/"
        }
      },
      "execution_count": 71,
      "outputs": [
        {
          "output_type": "stream",
          "name": "stdout",
          "text": [
            "Teste 2: OK\n",
            "  Resultado: eu gosto de bananada\n",
            "  Esperado:  eu gosto de bananada\n",
            "\n"
          ]
        }
      ]
    },
    {
      "cell_type": "code",
      "source": [
        "def teste_3():\n",
        "    string = 'banana é bom'\n",
        "    resultado = replace_custom(string, 'banana', 'uva')\n",
        "    esperado = 'uva é bom'\n",
        "    print('Teste 3:', 'OK' if resultado == esperado else 'ERRO')\n",
        "    print(f\"  Resultado: {resultado}\\n  Esperado:  {esperado}\\n\")\n",
        "\n",
        "teste_3()"
      ],
      "metadata": {
        "id": "PyB4BUl_T0o5",
        "outputId": "ab0d7dce-c3d4-474b-d044-170dc589d006",
        "colab": {
          "base_uri": "https://localhost:8080/"
        }
      },
      "execution_count": 72,
      "outputs": [
        {
          "output_type": "stream",
          "name": "stdout",
          "text": [
            "Teste 3: OK\n",
            "  Resultado: uva é bom\n",
            "  Esperado:  uva é bom\n",
            "\n"
          ]
        }
      ]
    },
    {
      "cell_type": "code",
      "source": [
        "def teste_4():\n",
        "    string = 'eu comi uma banana'\n",
        "    resultado = replace_custom(string, 'banana', 'uva')\n",
        "    esperado = 'eu comi uma uva'\n",
        "    print('Teste 4:', 'OK' if resultado == esperado else 'ERRO')\n",
        "    print(f\"  Resultado: {resultado}\\n  Esperado:  {esperado}\\n\")\n",
        "\n",
        "teste_4()"
      ],
      "metadata": {
        "id": "5yvXMB4RT45I",
        "outputId": "0b225ba8-1b3e-49d8-ded8-e1138df14164",
        "colab": {
          "base_uri": "https://localhost:8080/"
        }
      },
      "execution_count": 73,
      "outputs": [
        {
          "output_type": "stream",
          "name": "stdout",
          "text": [
            "Teste 4: OK\n",
            "  Resultado: eu comi uma uva\n",
            "  Esperado:  eu comi uma uva\n",
            "\n"
          ]
        }
      ]
    },
    {
      "cell_type": "code",
      "source": [
        "def teste_5():\n",
        "    string = 'gosto de @banana'\n",
        "    resultado = replace_custom(string, 'banana', 'uva')\n",
        "    esperado = 'gosto de @banana'\n",
        "    print('Teste 5:', 'OK' if resultado == esperado else 'ERRO')\n",
        "    print(f\"  Resultado: {resultado}\\n  Esperado:  {esperado}\\n\")\n",
        "\n",
        "teste_5()"
      ],
      "metadata": {
        "id": "YNtrxR8gT6xY",
        "outputId": "b9729c18-f542-47fe-b203-8909024178aa",
        "colab": {
          "base_uri": "https://localhost:8080/"
        }
      },
      "execution_count": 74,
      "outputs": [
        {
          "output_type": "stream",
          "name": "stdout",
          "text": [
            "Teste 5: OK\n",
            "  Resultado: gosto de @banana\n",
            "  Esperado:  gosto de @banana\n",
            "\n"
          ]
        }
      ]
    },
    {
      "cell_type": "code",
      "source": [
        "def teste_6():\n",
        "    string = 'banana e banana'\n",
        "    resultado = replace_custom(string, 'banana', 'uva')\n",
        "    esperado = 'uva e uva'\n",
        "    print('Teste 6:', 'OK' if resultado == esperado else 'ERRO')\n",
        "    print(f\"  Resultado: {resultado}\\n  Esperado:  {esperado}\\n\")\n",
        "\n",
        "teste_6()"
      ],
      "metadata": {
        "id": "osiwPR7WT8UU",
        "outputId": "e919f0b4-b053-443f-bdc6-5e3d5b1773b6",
        "colab": {
          "base_uri": "https://localhost:8080/"
        }
      },
      "execution_count": 75,
      "outputs": [
        {
          "output_type": "stream",
          "name": "stdout",
          "text": [
            "Teste 6: OK\n",
            "  Resultado: uva e uva\n",
            "  Esperado:  uva e uva\n",
            "\n"
          ]
        }
      ]
    },
    {
      "cell_type": "code",
      "source": [
        "def teste_7():\n",
        "    string = 'eu gosto de maçã'\n",
        "    resultado = replace_custom(string, 'banana', 'uva')\n",
        "    esperado = 'eu gosto de maçã'\n",
        "    print('Teste 7:', 'OK' if resultado == esperado else 'ERRO')\n",
        "    print(f\"  Resultado: {resultado}\\n  Esperado:  {esperado}\\n\")\n",
        "\n",
        "teste_7()"
      ],
      "metadata": {
        "id": "fnO9RyddT-mc",
        "outputId": "edf4633a-e882-41b8-db49-1ecd4efb138b",
        "colab": {
          "base_uri": "https://localhost:8080/"
        }
      },
      "execution_count": 76,
      "outputs": [
        {
          "output_type": "stream",
          "name": "stdout",
          "text": [
            "Teste 7: OK\n",
            "  Resultado: eu gosto de maçã\n",
            "  Esperado:  eu gosto de maçã\n",
            "\n"
          ]
        }
      ]
    },
    {
      "cell_type": "code",
      "source": [
        "def teste_8():\n",
        "    string = 'eu gosto de banana'\n",
        "    resultado = replace_custom(string, 'banana', '')\n",
        "    esperado = 'eu gosto de '\n",
        "    print('Teste 8:', 'OK' if resultado == esperado else 'ERRO')\n",
        "    print(f\"  Resultado: {resultado}\\n  Esperado:  {esperado}\\n\")\n",
        "\n",
        "teste_8()"
      ],
      "metadata": {
        "id": "CmIRgxpNUB6g",
        "outputId": "c88af69b-ba19-4cb9-96fd-8f21b5c68145",
        "colab": {
          "base_uri": "https://localhost:8080/"
        }
      },
      "execution_count": 77,
      "outputs": [
        {
          "output_type": "stream",
          "name": "stdout",
          "text": [
            "Teste 8: OK\n",
            "  Resultado: eu gosto de \n",
            "  Esperado:  eu gosto de \n",
            "\n"
          ]
        }
      ]
    },
    {
      "cell_type": "code",
      "source": [
        "def teste_9():\n",
        "    string = 'eu gosto de banana'\n",
        "    resultado = replace_custom(string, 'banana', 'uva roxa')\n",
        "    esperado = 'eu gosto de uva roxa'\n",
        "    print('Teste 9:', 'OK' if resultado == esperado else 'ERRO')\n",
        "    print(f\"  Resultado: {resultado}\\n  Esperado:  {esperado}\\n\")\n",
        "\n",
        "teste_9()"
      ],
      "metadata": {
        "id": "OMguMvAkUEWx",
        "outputId": "e4f169c0-a509-48d3-de2b-a97459ea88e1",
        "colab": {
          "base_uri": "https://localhost:8080/"
        }
      },
      "execution_count": 78,
      "outputs": [
        {
          "output_type": "stream",
          "name": "stdout",
          "text": [
            "Teste 9: OK\n",
            "  Resultado: eu gosto de uva roxa\n",
            "  Esperado:  eu gosto de uva roxa\n",
            "\n"
          ]
        }
      ]
    }
  ]
}